{
 "cells": [
  {
   "cell_type": "code",
   "execution_count": null,
   "metadata": {
    "collapsed": true
   },
   "outputs": [],
   "source": [
    "import os\n",
    "import os.path as osp\n",
    "import numpy as np\n",
    "import matplotlib, sys, os, \\\n",
    "    glob, cPickle, scipy, \\\n",
    "    argparse, errno, json, \\\n",
    "    copy, re, time, imp, datetime, \\\n",
    "    cv2, logging\n",
    "\n",
    "matplotlib.use(\"TkAgg\")\n",
    "import matplotlib.pyplot as plt\n",
    "import pandas as pd\n",
    "import numpy as np\n",
    "import os.path as osp\n",
    "import scipy.io as sio\n",
    "\n",
    "from pprint import pprint\n",
    "import subprocess\n",
    "\n",
    "\n",
    "def summary(x):\n",
    "    print np.min(x), np.max(x), np.mean(x)\n",
    "    print len(np.unique(x)), len(x)\n",
    "\n",
    "\n",
    "root_path = root_dir = osp.normpath(\n",
    "    osp.join(osp.dirname(__file__), \"..\")\n",
    ")\n",
    "fn = 'train_sub_txt.txt'\n",
    "\n",
    "path = osp.join(root_path, 'data', fn)\n",
    "data = np.loadtxt(path).astype('int')\n",
    "print data\n",
    "users = data[:, 0]\n",
    "items = data[:, 1]\n",
    "score = data[:, 2]\n",
    "for i in range(3):\n",
    "    summary(data[:, i])"
   ]
  }
 ],
 "metadata": {
  "kernelspec": {
   "display_name": "Python 2",
   "language": "python",
   "name": "python2"
  },
  "language_info": {
   "codemirror_mode": {
    "name": "ipython",
    "version": 2.0
   },
   "file_extension": ".py",
   "mimetype": "text/x-python",
   "name": "python",
   "nbconvert_exporter": "python",
   "pygments_lexer": "ipython2",
   "version": "2.7.12"
  }
 },
 "nbformat": 4,
 "nbformat_minor": 0
}